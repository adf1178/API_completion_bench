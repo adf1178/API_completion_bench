{
 "cells": [
  {
   "cell_type": "code",
   "execution_count": 1,
   "metadata": {},
   "outputs": [],
   "source": [
    "import json\n",
    "import re"
   ]
  },
  {
   "cell_type": "code",
   "execution_count": 2,
   "metadata": {},
   "outputs": [
    {
     "data": {
      "text/plain": [
       "176"
      ]
     },
     "execution_count": 2,
     "metadata": {},
     "output_type": "execute_result"
    }
   ],
   "source": [
    "with open(\"java_spring_api.json\", 'r', encoding='utf-8') as f:\n",
    "    raw_data = json.load(f)\n",
    "    \n",
    "len(raw_data.keys()) # Number of APIs"
   ]
  },
  {
   "cell_type": "code",
   "execution_count": 3,
   "metadata": {},
   "outputs": [
    {
     "name": "stdout",
     "output_type": "stream",
     "text": [
      "4146\n",
      "853\n"
     ]
    }
   ],
   "source": [
    "related_files = []\n",
    "total_num = 0\n",
    "for api_name, usage_list in raw_data.items():\n",
    "    # print(len(usage_list))\n",
    "    total_num += len(usage_list)\n",
    "    for single_use in usage_list:\n",
    "        related_files.append(single_use['git_name'])\n",
    "        \n",
    "print(total_num) # Total number of benchmarks \n",
    "print(len(set(related_files))) # Total number of unique projects"
   ]
  },
  {
   "cell_type": "code",
   "execution_count": 4,
   "metadata": {},
   "outputs": [],
   "source": [
    "def construct_how_to_use(api, code):\n",
    "    # 使用 re.escape 确保 api 中的特殊字符被正确处理\n",
    "    escaped_api = re.escape(api)\n",
    "    \n",
    "    # 动态构造正则表达式，匹配 api 函数调用\n",
    "    pattern = rf'({escaped_api}\\()'\n",
    "    \n",
    "    contents = []\n",
    "\n",
    "    for match in re.finditer(pattern, code, re.DOTALL):\n",
    "        start_pos = match.start(1)\n",
    "        # 寻找对应的闭合括号，考虑括号的嵌套\n",
    "        open_brackets = 1\n",
    "        cursor = match.end(1)\n",
    "        while open_brackets > 0 and cursor < len(code):\n",
    "            if code[cursor] == '(':\n",
    "                open_brackets += 1\n",
    "            elif code[cursor] == ')':\n",
    "                open_brackets -= 1\n",
    "            cursor += 1\n",
    "        \n",
    "        # 提取内容\n",
    "        content = code[match.end(1):cursor-1]\n",
    "\n",
    "        # 提取前文和后文\n",
    "        context_pre = code[:start_pos] + api + '('\n",
    "        context_post = code[cursor-1:]\n",
    "        \n",
    "        contents.append({\"context_pre\":context_pre, \n",
    "                         \"content\":content, \n",
    "                         \"context_post\":context_post})\n",
    "    \n",
    "    return contents\n",
    "\n",
    "def find_matching_parenthesis(code, start_pos):\n",
    "    # 寻找匹配的闭合括号\n",
    "    open_brackets = 1\n",
    "    cursor = start_pos\n",
    "    while open_brackets > 0 and cursor < len(code):\n",
    "        if code[cursor] == '(':\n",
    "            open_brackets += 1\n",
    "        elif code[cursor] == ')':\n",
    "            open_brackets -= 1\n",
    "        cursor += 1\n",
    "    return cursor  # 返回找到的匹配的闭合括号的位置\n",
    "\n",
    "\n",
    "def construct_when_to_use(api, code):\n",
    "    # 使用 re.escape 确保 api 中的特殊字符被正确处理\n",
    "    escaped_api = re.escape(api)\n",
    "    pattern = rf'({escaped_api}\\()'\n",
    "    \n",
    "    usages = []\n",
    "\n",
    "    for match in re.finditer(pattern, code):\n",
    "        start_pos = match.start(1) + len(api) + 1  # 定位到API调用的开括号后的第一个字符\n",
    "        end_pos = find_matching_parenthesis(code, start_pos)  # 找到匹配的闭合括号位置\n",
    "\n",
    "        # 提取内容，即API调用及其完整表达式\n",
    "        content = code[match.start(1):end_pos]\n",
    "        \n",
    "        # 提取API调用之前的代码作为前文\n",
    "        context_pre = code[:match.start(1)].strip()\n",
    "        \n",
    "        # 提取API调用表达式之后的代码作为后文\n",
    "        context_post = code[end_pos:].strip()\n",
    "        \n",
    "        usages.append({\"context_pre\":context_pre, \n",
    "                         \"content\":content, \n",
    "                         \"context_post\":context_post})\n",
    "    \n",
    "    return usages\n",
    "\n"
   ]
  },
  {
   "cell_type": "markdown",
   "metadata": {},
   "source": [
    "## Setting Parameters"
   ]
  },
  {
   "cell_type": "code",
   "execution_count": 7,
   "metadata": {},
   "outputs": [],
   "source": [
    "USE_COMMENT = False\n",
    "USE_FILE_CONTEXT = False\n",
    "LINE_BEFORE = 10\n",
    "FILL_IN_THE_MIDDLE = False\n",
    "USE_IMPORT_MESSAGE = True\n"
   ]
  },
  {
   "cell_type": "markdown",
   "metadata": {},
   "source": [
    "## Construct how to use"
   ]
  },
  {
   "cell_type": "code",
   "execution_count": 9,
   "metadata": {},
   "outputs": [
    {
     "name": "stdout",
     "output_type": "stream",
     "text": [
      "176\n"
     ]
    }
   ],
   "source": [
    "total_data = []\n",
    "\n",
    "for api_name, usage_list in raw_data.items():\n",
    "    current_data = []\n",
    "    for single_use in usage_list:\n",
    "        api = '.'.join(api_name.split('.')[-2:])\n",
    "        comment = single_use['comment']\n",
    "        file_left_context = single_use['left_context']\n",
    "        file_right_context = single_use['right_context']\n",
    "        pure_code = single_use['code'].replace(comment, '').strip()\n",
    "        import_list = [\"import \"+i for i in single_use['import_text']]\n",
    "        input_data = pure_code \n",
    "        if USE_COMMENT:\n",
    "            input_data = comment + '\\n' + input_data\n",
    "            \n",
    "        if USE_FILE_CONTEXT:\n",
    "            input_data = file_left_context.split('\\n')[-LINE_BEFORE:] + '\\n' + input_data\n",
    "            \n",
    "        if USE_IMPORT_MESSAGE:\n",
    "            input_data = '\\n'.join(import_list) + \"\\n\" + input_data\n",
    "        current_data += construct_how_to_use(api, input_data)\n",
    "    total_data.append({api_name:current_data})\n",
    "    #     print(construct_how_to_use(api, single_use['code'])[0][0])\n",
    "    #     print(construct_how_to_use(api, single_use['code'])[0][1])\n",
    "    #     print(construct_how_to_use(api, single_use['code'])[0][2])\n",
    "    #     break\n",
    "    # break\n",
    "    \n",
    "print(len(total_data))\n",
    "\n",
    "\n",
    "with open(\"how_to_use_function_import.json\", 'w', encoding='utf-8') as f:\n",
    "    json.dump(total_data, f, ensure_ascii=False, indent=4)"
   ]
  },
  {
   "cell_type": "code",
   "execution_count": 5,
   "metadata": {},
   "outputs": [],
   "source": [
    "\n",
    "\n",
    "when_to_use = []\n",
    "\n",
    "for api_name, usage_list in raw_data.items():\n",
    "    current_data = []\n",
    "    for single_use in usage_list:\n",
    "        \n",
    "        api = '.'.join(api_name.split('.')[-2:])\n",
    "        current_data += construct_when_to_use(api, single_use['code'])\n",
    "    when_to_use.append({api_name:current_data})\n",
    "        # print(construct_when_to_use(api, single_use['code'])[0][\"context_pre\"])\n",
    "        # print(\"#################\")\n",
    "        # print(construct_when_to_use(api, single_use['code'])[0][\"content\"])\n",
    "        # print(\"#################\")\n",
    "        # print(construct_when_to_use(api, single_use['code'])[0][\"context_post\"])\n",
    "        \n",
    "        \n",
    "with open(\"when_to_use.json\", 'w', encoding='utf-8') as f:\n",
    "    json.dump(when_to_use, f, ensure_ascii=False, indent=4)\n"
   ]
  }
 ],
 "metadata": {
  "kernelspec": {
   "display_name": "dev",
   "language": "python",
   "name": "python3"
  },
  "language_info": {
   "codemirror_mode": {
    "name": "ipython",
    "version": 3
   },
   "file_extension": ".py",
   "mimetype": "text/x-python",
   "name": "python",
   "nbconvert_exporter": "python",
   "pygments_lexer": "ipython3",
   "version": "3.1.0"
  }
 },
 "nbformat": 4,
 "nbformat_minor": 2
}
